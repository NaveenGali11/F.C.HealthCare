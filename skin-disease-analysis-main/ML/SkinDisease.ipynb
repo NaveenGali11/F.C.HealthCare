{
 "cells": [
  {
   "cell_type": "code",
   "execution_count": 1,
   "metadata": {},
   "outputs": [],
   "source": [
    "import requests\n",
    "import json\n",
    "url=\"https://centralindia.api.cognitive.microsoft.com/customvision/v3.0/Prediction/82462bcc-5616-4f82-98ea-8d4fda55a9e6/classify/iterations/Iteration1/url\"\n",
    "headers={'content-type':'application/json','Prediction-Key':'24ab65398bb943768ed6aea74b9a073e'}\n",
    "body={\"Url\": \"https://i.imgur.com/cYzaOkV.jpg\"}\n",
    "r =requests.post(url,json=body,headers=headers)"
   ]
  },
  {
   "cell_type": "code",
   "execution_count": 2,
   "metadata": {},
   "outputs": [
    {
     "name": "stdout",
     "output_type": "stream",
     "text": [
      "{'id': 'f9200a70-20bb-44b5-9eb8-8ff70486430b', 'project': '82462bcc-5616-4f82-98ea-8d4fda55a9e6', 'iteration': 'd0e48a13-e906-4af2-9f4c-15d79e3b4576', 'created': '2020-10-26T15:10:55.926Z', 'predictions': [{'probability': 0.999876738, 'tagId': 'b5bd1d3a-dbcd-4b0d-ad0b-3f8d7b12fbea', 'tagName': 'Lentigo'}, {'probability': 0.0001100349, 'tagId': 'c69433ef-4630-4e0f-8077-2de485483323', 'tagName': 'Acne Cystic'}, {'probability': 1.29300688e-05, 'tagId': '2102157b-b250-4c3d-bf2a-588cda8e93eb', 'tagName': 'Rosacea'}, {'probability': 1.10303489e-07, 'tagId': 'ea68f8e7-b50f-4ca0-88dc-c2c8f3bb6823', 'tagName': 'Herpes'}, {'probability': 9.26677259e-08, 'tagId': '29c5c735-90f7-48ff-b23c-545be3325e9e', 'tagName': 'Acne Pustular'}, {'probability': 7.811148e-08, 'tagId': '579b080c-4ab1-405f-a8bd-5bf32efd9b70', 'tagName': 'Melasma'}, {'probability': 3.90258634e-08, 'tagId': '8340afdd-b758-46b4-9aee-754480437f0e', 'tagName': 'Acne Comedo'}, {'probability': 1.49268364e-09, 'tagId': 'b89f964a-1a72-41ec-b8b7-8e0d7e9ef8ff', 'tagName': 'Eczema'}]}\n"
     ]
    }
   ],
   "source": [
    "print(r.json())"
   ]
  },
  {
   "cell_type": "code",
   "execution_count": 14,
   "metadata": {},
   "outputs": [
    {
     "name": "stdout",
     "output_type": "stream",
     "text": [
      "Lentigo:99.9876738\n"
     ]
    }
   ],
   "source": [
    "response=r.json()\n",
    "\n",
    "for prediction in response[\"predictions\"]:\n",
    "    if prediction[\"probability\"]>0.60:\n",
    "        print(prediction[\"tagName\"]+\":\",end=\"\")\n",
    "        print(prediction[\"probability\"]*100)\n",
    "        #print(prediction[\"probability\"])"
   ]
  },
  {
   "cell_type": "code",
   "execution_count": null,
   "metadata": {},
   "outputs": [],
   "source": []
  }
 ],
 "metadata": {
  "kernelspec": {
   "display_name": "Python 3",
   "language": "python",
   "name": "python3"
  },
  "language_info": {
   "codemirror_mode": {
    "name": "ipython",
    "version": 3
   },
   "file_extension": ".py",
   "mimetype": "text/x-python",
   "name": "python",
   "nbconvert_exporter": "python",
   "pygments_lexer": "ipython3",
   "version": "3.8.6"
  }
 },
 "nbformat": 4,
 "nbformat_minor": 4
}
